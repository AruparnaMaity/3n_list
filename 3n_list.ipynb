{
 "metadata": {
  "language_info": {
   "codemirror_mode": {
    "name": "ipython",
    "version": 3
   },
   "file_extension": ".py",
   "mimetype": "text/x-python",
   "name": "python",
   "nbconvert_exporter": "python",
   "pygments_lexer": "ipython3",
   "version": "3.7.6-final"
  },
  "orig_nbformat": 2,
  "kernelspec": {
   "name": "python3",
   "display_name": "Python 3",
   "language": "python"
  }
 },
 "nbformat": 4,
 "nbformat_minor": 2,
 "cells": [
  {
   "cell_type": "code",
   "execution_count": 6,
   "metadata": {},
   "outputs": [],
   "source": [
    "# Importing requisite modules\n",
    "import numpy as np"
   ]
  },
  {
   "cell_type": "code",
   "execution_count": 7,
   "metadata": {},
   "outputs": [],
   "source": [
    "# Creating a dummy list of random integers\n",
    "n = 10\n",
    "list_3n = np.random.randint(1, 100, 3*n)"
   ]
  },
  {
   "cell_type": "code",
   "execution_count": 3,
   "metadata": {},
   "outputs": [
    {
     "output_type": "execute_result",
     "data": {
      "text/plain": [
       "array([12, 10, 60,  8, 22, 63, 51, 90, 41, 92, 44, 70, 74, 24, 66, 39, 95,\n",
       "       15, 26, 88, 82, 28, 25, 18, 60, 34, 25, 29, 33, 29])"
      ]
     },
     "metadata": {},
     "execution_count": 3
    }
   ],
   "source": [
    "# Viewing the list\n",
    "list_3n"
   ]
  },
  {
   "cell_type": "code",
   "execution_count": 4,
   "metadata": {},
   "outputs": [],
   "source": [
    "# Modularized function\n",
    "def threeN_list(input_list):\n",
    "    # Step1 : Sort the list in ascending order\n",
    "    list_3n_sorted = np.sort(input_list)\n",
    "\n",
    "    # Initializing an empty list\n",
    "    tuples_list = []\n",
    "\n",
    "    while True:\n",
    "\n",
    "        # First element of sorted list\n",
    "        list_3n_sorted_1 = list_3n_sorted[0]\n",
    "        # Last element of sorted list\n",
    "        list_3n_sorted_last = list_3n_sorted[-2]\n",
    "        # Second last element of sorted list\n",
    "        list_3n_sorted_2last = list_3n_sorted[-1]\n",
    "\n",
    "        # Appending the 3 elements as tupples to empty list\n",
    "        tuples_list.append((list_3n_sorted_1, list_3n_sorted_last, list_3n_sorted_2last))\n",
    "\n",
    "        # Getting rid of the 3 elements by slicing the list\n",
    "        list_3n_sorted = list_3n_sorted[1:-2]\n",
    "\n",
    "        # Break if all the elements in the list are sliced away\n",
    "        if len(list_3n_sorted) == 0:\n",
    "            break\n",
    "\n",
    "    return tuples_list"
   ]
  },
  {
   "cell_type": "code",
   "execution_count": 5,
   "metadata": {},
   "outputs": [
    {
     "output_type": "execute_result",
     "data": {
      "text/plain": [
       "[(8, 92, 95),\n",
       " (10, 88, 90),\n",
       " (12, 74, 82),\n",
       " (15, 66, 70),\n",
       " (18, 60, 63),\n",
       " (22, 51, 60),\n",
       " (24, 41, 44),\n",
       " (25, 34, 39),\n",
       " (25, 29, 33),\n",
       " (26, 28, 29)]"
      ]
     },
     "metadata": {},
     "execution_count": 5
    }
   ],
   "source": [
    "threeN_list(list_3n)"
   ]
  }
 ]
}