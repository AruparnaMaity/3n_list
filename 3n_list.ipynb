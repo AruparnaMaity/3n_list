{
 "metadata": {
  "language_info": {
   "codemirror_mode": {
    "name": "ipython",
    "version": 3
   },
   "file_extension": ".py",
   "mimetype": "text/x-python",
   "name": "python",
   "nbconvert_exporter": "python",
   "pygments_lexer": "ipython3",
   "version": "3.7.6-final"
  },
  "orig_nbformat": 2,
  "kernelspec": {
   "name": "python3",
   "display_name": "Python 3",
   "language": "python"
  }
 },
 "nbformat": 4,
 "nbformat_minor": 2,
 "cells": [
  {
   "cell_type": "code",
   "execution_count": 1,
   "metadata": {},
   "outputs": [],
   "source": [
    "# Importing requisite modules\n",
    "import numpy as np"
   ]
  },
  {
   "cell_type": "code",
   "execution_count": 2,
   "metadata": {},
   "outputs": [],
   "source": [
    "# Creating a dummy list of random integers\n",
    "n = 10\n",
    "list_3n = np.random.randint(1, 100, 3*n)"
   ]
  },
  {
   "cell_type": "code",
   "execution_count": 6,
   "metadata": {},
   "outputs": [
    {
     "output_type": "execute_result",
     "data": {
      "text/plain": [
       "array([62, 86, 75, 50, 49, 14, 62,  2, 28, 85, 51, 40, 84, 16, 24, 44, 17,\n",
       "       35, 98, 25, 69, 56, 60, 22, 44, 40, 54, 81,  6, 21])"
      ]
     },
     "metadata": {},
     "execution_count": 6
    }
   ],
   "source": [
    "# Viewing the list\n",
    "list_3n"
   ]
  },
  {
   "cell_type": "code",
   "execution_count": 8,
   "metadata": {},
   "outputs": [],
   "source": [
    "# Modularized function\n",
    "\n",
    "def threeN_list(input_list):\n",
    "    # Step1 : Sort the list in ascending order\n",
    "    list_3n_sorted = np.sort(input_list)\n",
    "\n",
    "    # Initializing an empty list\n",
    "    tuples_list = []\n",
    "\n",
    "    while True:\n",
    "\n",
    "        # First element of sorted list\n",
    "        list_3n_sorted_1 = list_3n_sorted[0]\n",
    "        # Last element of sorted list\n",
    "        list_3n_sorted_last = list_3n_sorted[-2]\n",
    "        # Second last element of sorted list\n",
    "        list_3n_sorted_2last = list_3n_sorted[-1]\n",
    "\n",
    "        # Appending the 3 elements as tupples to empty list\n",
    "        tuples_list.append((list_3n_sorted_1, list_3n_sorted_last, list_3n_sorted_2last))\n",
    "\n",
    "        # Getting rid of the 3 elements by slicing the list\n",
    "        list_3n_sorted = list_3n_sorted[1:-2]\n",
    "\n",
    "        # Break if all the elements in the list are sliced away\n",
    "        if len(list_3n_sorted) == 0:\n",
    "            break\n",
    "\n",
    "    return tuples_list"
   ]
  },
  {
   "cell_type": "code",
   "execution_count": 9,
   "metadata": {},
   "outputs": [
    {
     "output_type": "execute_result",
     "data": {
      "text/plain": [
       "[(2, 86, 98),\n",
       " (6, 84, 85),\n",
       " (14, 75, 81),\n",
       " (16, 62, 69),\n",
       " (17, 60, 62),\n",
       " (21, 54, 56),\n",
       " (22, 50, 51),\n",
       " (24, 44, 49),\n",
       " (25, 40, 44),\n",
       " (28, 35, 40)]"
      ]
     },
     "metadata": {},
     "execution_count": 9
    }
   ],
   "source": [
    "threeN_list(list_3n)"
   ]
  }
 ]
}