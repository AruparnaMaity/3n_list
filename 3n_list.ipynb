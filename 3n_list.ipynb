{
 "metadata": {
  "language_info": {
   "codemirror_mode": {
    "name": "ipython",
    "version": 3
   },
   "file_extension": ".py",
   "mimetype": "text/x-python",
   "name": "python",
   "nbconvert_exporter": "python",
   "pygments_lexer": "ipython3",
   "version": "3.7.6-final"
  },
  "orig_nbformat": 2,
  "kernelspec": {
   "name": "python3",
   "display_name": "Python 3",
   "language": "python"
  }
 },
 "nbformat": 4,
 "nbformat_minor": 2,
 "cells": [
  {
   "cell_type": "code",
   "execution_count": 2,
   "metadata": {},
   "outputs": [],
   "source": [
    "# Importing requisite modules\n",
    "import numpy as np"
   ]
  },
  {
   "cell_type": "code",
   "execution_count": 3,
   "metadata": {},
   "outputs": [],
   "source": [
    "# Creating a dummy list of random integers\n",
    "n = 10\n",
    "list_3n = np.random.randint(1, 100, 3*n)"
   ]
  },
  {
   "cell_type": "code",
   "execution_count": 4,
   "metadata": {},
   "outputs": [
    {
     "output_type": "execute_result",
     "data": {
      "text/plain": [
       "array([77, 64, 37, 48, 49, 97, 91, 70, 76, 33, 70, 34, 46, 75, 74, 53, 19,\n",
       "       13, 27, 90, 21, 69, 46, 16, 11, 17, 70, 69, 98, 63])"
      ]
     },
     "metadata": {},
     "execution_count": 4
    }
   ],
   "source": [
    "# Viewing the list\n",
    "list_3n"
   ]
  },
  {
   "cell_type": "code",
   "execution_count": 5,
   "metadata": {},
   "outputs": [],
   "source": [
    "# Modularized function\n",
    "\n",
    "def threeN_list(input_list):\n",
    "    # Step1 : Sort the list in ascending order\n",
    "    list_3n_sorted = np.sort(input_list)\n",
    "\n",
    "    # Initializing an empty list\n",
    "    tuples_list = []\n",
    "\n",
    "    while True:\n",
    "\n",
    "        # First element of sorted list\n",
    "        list_3n_sorted_1 = list_3n_sorted[0]\n",
    "        # Last element of sorted list\n",
    "        list_3n_sorted_last = list_3n_sorted[-2]\n",
    "        # Second last element of sorted list\n",
    "        list_3n_sorted_2last = list_3n_sorted[-1]\n",
    "\n",
    "        # Appending the 3 elements as tupples to empty list\n",
    "        tuples_list.append((list_3n_sorted_1, list_3n_sorted_last, list_3n_sorted_2last))\n",
    "\n",
    "        # Getting rid of the 3 elements by slicing the list\n",
    "        list_3n_sorted = list_3n_sorted[1:-2]\n",
    "\n",
    "        # Break if all the elements in the list are sliced away\n",
    "        if len(list_3n_sorted) == 0:\n",
    "            break\n",
    "\n",
    "    return tuples_list"
   ]
  },
  {
   "cell_type": "code",
   "execution_count": 6,
   "metadata": {},
   "outputs": [
    {
     "output_type": "execute_result",
     "data": {
      "text/plain": [
       "[(11, 97, 98),\n",
       " (13, 90, 91),\n",
       " (16, 76, 77),\n",
       " (17, 74, 75),\n",
       " (19, 70, 70),\n",
       " (21, 69, 70),\n",
       " (27, 64, 69),\n",
       " (33, 53, 63),\n",
       " (34, 48, 49),\n",
       " (37, 46, 46)]"
      ]
     },
     "metadata": {},
     "execution_count": 6
    }
   ],
   "source": [
    "threeN_list(list_3n)"
   ]
  }
 ]
}