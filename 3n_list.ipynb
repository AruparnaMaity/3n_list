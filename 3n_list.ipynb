{
 "metadata": {
  "language_info": {
   "codemirror_mode": {
    "name": "ipython",
    "version": 3
   },
   "file_extension": ".py",
   "mimetype": "text/x-python",
   "name": "python",
   "nbconvert_exporter": "python",
   "pygments_lexer": "ipython3",
   "version": "3.7.6-final"
  },
  "orig_nbformat": 2,
  "kernelspec": {
   "name": "python3",
   "display_name": "Python 3",
   "language": "python"
  }
 },
 "nbformat": 4,
 "nbformat_minor": 2,
 "cells": [
  {
   "cell_type": "code",
   "execution_count": 1,
   "metadata": {},
   "outputs": [],
   "source": [
    "import numpy as np"
   ]
  },
  {
   "cell_type": "code",
   "execution_count": 2,
   "metadata": {},
   "outputs": [],
   "source": [
    "n = 10\n",
    "list_3n = np.random.randint(1, 100, 3*n)"
   ]
  },
  {
   "cell_type": "code",
   "execution_count": 3,
   "metadata": {},
   "outputs": [
    {
     "output_type": "execute_result",
     "data": {
      "text/plain": [
       "array([62, 86, 75, 50, 49, 14, 62,  2, 28, 85, 51, 40, 84, 16, 24, 44, 17,\n",
       "       35, 98, 25, 69, 56, 60, 22, 44, 40, 54, 81,  6, 21])"
      ]
     },
     "metadata": {},
     "execution_count": 3
    }
   ],
   "source": [
    "list_3n"
   ]
  },
  {
   "cell_type": "code",
   "execution_count": 4,
   "metadata": {},
   "outputs": [
    {
     "output_type": "execute_result",
     "data": {
      "text/plain": [
       "array([ 1,  1,  3,  4,  5,  5,  6,  8, 16, 18, 27, 28, 34, 35, 39, 41, 42,\n",
       "       42, 48, 55, 57, 57, 60, 62, 68, 75, 75, 89, 90, 93])"
      ]
     },
     "metadata": {},
     "execution_count": 4
    }
   ],
   "source": [
    "list_3n_sorted = np.sort(list_3n)\n",
    "list_3n_sorted"
   ]
  },
  {
   "cell_type": "code",
   "execution_count": 32,
   "metadata": {},
   "outputs": [
    {
     "output_type": "execute_result",
     "data": {
      "text/plain": [
       "(9, 93, 94)"
      ]
     },
     "metadata": {},
     "execution_count": 32
    }
   ],
   "source": [
    "# Create triplets\n",
    "(list_3n_sorted[0], list_3n_sorted[-2], list_3n_sorted[-1])"
   ]
  },
  {
   "cell_type": "code",
   "execution_count": 30,
   "metadata": {},
   "outputs": [
    {
     "output_type": "execute_result",
     "data": {
      "text/plain": [
       "array([12, 12, 15, 17, 18, 23, 23, 25, 25, 26, 32, 44, 48, 49, 54, 55, 57,\n",
       "       68, 73, 77, 81, 83, 85, 89, 90, 91, 92])"
      ]
     },
     "metadata": {},
     "execution_count": 30
    }
   ],
   "source": [
    "list_3n_sorted = list_3n_sorted[1:-2]\n",
    "list_3n_sorted"
   ]
  },
  {
   "cell_type": "code",
   "execution_count": 4,
   "metadata": {},
   "outputs": [],
   "source": [
    "list_3n_sorted = np.sort(list_3n)\n",
    "tuples_list = []\n",
    "while True:\n",
    "    tuples_list.append((list_3n_sorted[0], list_3n_sorted[-2], list_3n_sorted[-1]))\n",
    "    list_3n_sorted = list_3n_sorted[1:-2]\n",
    "    if len(list_3n_sorted) == 0:\n",
    "        break"
   ]
  },
  {
   "cell_type": "code",
   "execution_count": 5,
   "metadata": {},
   "outputs": [
    {
     "output_type": "execute_result",
     "data": {
      "text/plain": [
       "[(2, 86, 98),\n",
       " (6, 84, 85),\n",
       " (14, 75, 81),\n",
       " (16, 62, 69),\n",
       " (17, 60, 62),\n",
       " (21, 54, 56),\n",
       " (22, 50, 51),\n",
       " (24, 44, 49),\n",
       " (25, 40, 44),\n",
       " (28, 35, 40)]"
      ]
     },
     "metadata": {},
     "execution_count": 5
    }
   ],
   "source": [
    "tuples_list"
   ]
  }
 ]
}