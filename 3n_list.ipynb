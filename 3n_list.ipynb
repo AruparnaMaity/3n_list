{
 "metadata": {
  "language_info": {
   "codemirror_mode": {
    "name": "ipython",
    "version": 3
   },
   "file_extension": ".py",
   "mimetype": "text/x-python",
   "name": "python",
   "nbconvert_exporter": "python",
   "pygments_lexer": "ipython3",
   "version": "3.7.6-final"
  },
  "orig_nbformat": 2,
  "kernelspec": {
   "name": "python3",
   "display_name": "Python 3",
   "language": "python"
  }
 },
 "nbformat": 4,
 "nbformat_minor": 2,
 "cells": [
  {
   "cell_type": "code",
   "execution_count": 1,
   "metadata": {},
   "outputs": [],
   "source": [
    "# Importing requisite modules\n",
    "import numpy as np"
   ]
  },
  {
   "cell_type": "code",
   "execution_count": 2,
   "metadata": {},
   "outputs": [],
   "source": [
    "# Creating a dummy list of random integers\n",
    "n = 10\n",
    "list_3n = np.random.randint(1, 100, 3*n)"
   ]
  },
  {
   "cell_type": "code",
   "execution_count": 3,
   "metadata": {},
   "outputs": [
    {
     "output_type": "execute_result",
     "data": {
      "text/plain": [
       "array([38, 77,  3,  3, 94, 24, 47, 92, 93, 54, 16, 90, 64, 55, 30, 64,  9,\n",
       "       84, 93,  9, 89, 93, 92, 57, 22, 85, 67, 69, 85, 78])"
      ]
     },
     "metadata": {},
     "execution_count": 3
    }
   ],
   "source": [
    "# Viewing the list\n",
    "list_3n"
   ]
  },
  {
   "cell_type": "code",
   "execution_count": 4,
   "metadata": {},
   "outputs": [],
   "source": [
    "# Modularized function\n",
    "\n",
    "def threeN_list(input_list):\n",
    "    # Step1 : Sort the list in ascending order\n",
    "    list_3n_sorted = input_list.sort()\n",
    "\n",
    "    # Initializing an empty list\n",
    "    tuples_list = []\n",
    "\n",
    "    while True:\n",
    "\n",
    "        # First element of sorted list\n",
    "        list_3n_sorted_1 = list_3n_sorted[0]\n",
    "        # Last element of sorted list\n",
    "        list_3n_sorted_last = list_3n_sorted[-2]\n",
    "        # Second last element of sorted list\n",
    "        list_3n_sorted_2last = list_3n_sorted[-1]\n",
    "\n",
    "        # Appending the 3 elements as tupples to empty list\n",
    "        tuples_list.append((list_3n_sorted_1, list_3n_sorted_last, list_3n_sorted_2last))\n",
    "\n",
    "        # Getting rid of the 3 elements by slicing the list\n",
    "        list_3n_sorted = list_3n_sorted[1:-2]\n",
    "\n",
    "        # Break if all the elements in the list are sliced away\n",
    "        if len(list_3n_sorted) == 0:\n",
    "            break\n",
    "\n",
    "    return tuples_list"
   ]
  },
  {
   "cell_type": "code",
   "execution_count": 5,
   "metadata": {},
   "outputs": [
    {
     "output_type": "execute_result",
     "data": {
      "text/plain": [
       "[(3, 93, 94),\n",
       " (3, 93, 93),\n",
       " (9, 92, 92),\n",
       " (9, 89, 90),\n",
       " (16, 85, 85),\n",
       " (22, 78, 84),\n",
       " (24, 69, 77),\n",
       " (30, 64, 67),\n",
       " (38, 57, 64),\n",
       " (47, 54, 55)]"
      ]
     },
     "metadata": {},
     "execution_count": 5
    }
   ],
   "source": [
    "threeN_list(list_3n)"
   ]
  }
 ]
}