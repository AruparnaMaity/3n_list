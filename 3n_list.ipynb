{
 "metadata": {
  "language_info": {
   "codemirror_mode": {
    "name": "ipython",
    "version": 3
   },
   "file_extension": ".py",
   "mimetype": "text/x-python",
   "name": "python",
   "nbconvert_exporter": "python",
   "pygments_lexer": "ipython3",
   "version": "3.7.6-final"
  },
  "orig_nbformat": 2,
  "kernelspec": {
   "name": "python3",
   "display_name": "Python 3",
   "language": "python"
  }
 },
 "nbformat": 4,
 "nbformat_minor": 2,
 "cells": [
  {
   "cell_type": "code",
   "execution_count": 1,
   "metadata": {},
   "outputs": [],
   "source": [
    "import numpy as np"
   ]
  },
  {
   "cell_type": "code",
   "execution_count": 22,
   "metadata": {},
   "outputs": [],
   "source": [
    "n = 10\n",
    "list_3n = np.random.randint(1, 100, 3*n)"
   ]
  },
  {
   "cell_type": "code",
   "execution_count": 23,
   "metadata": {},
   "outputs": [
    {
     "output_type": "execute_result",
     "data": {
      "text/plain": [
       "array([54, 32, 93, 81,  9, 83, 91, 73, 18, 49, 55, 77, 12, 15, 12, 89, 68,\n",
       "       85, 44, 23, 25, 48, 57, 94, 25, 92, 17, 90, 26, 23])"
      ]
     },
     "metadata": {},
     "execution_count": 23
    }
   ],
   "source": [
    "list_3n"
   ]
  },
  {
   "cell_type": "code",
   "execution_count": 24,
   "metadata": {},
   "outputs": [
    {
     "output_type": "execute_result",
     "data": {
      "text/plain": [
       "array([ 9, 12, 12, 15, 17, 18, 23, 23, 25, 25, 26, 32, 44, 48, 49, 54, 55,\n",
       "       57, 68, 73, 77, 81, 83, 85, 89, 90, 91, 92, 93, 94])"
      ]
     },
     "metadata": {},
     "execution_count": 24
    }
   ],
   "source": [
    "list_3n_sorted = np.sort(list_3n)\n",
    "list_3n_sorted"
   ]
  },
  {
   "cell_type": "code",
   "execution_count": 32,
   "metadata": {},
   "outputs": [
    {
     "output_type": "execute_result",
     "data": {
      "text/plain": [
       "(9, 93, 94)"
      ]
     },
     "metadata": {},
     "execution_count": 32
    }
   ],
   "source": [
    "# Create triplets\n",
    "(list_3n_sorted[0], list_3n_sorted[-2], list_3n_sorted[-1])"
   ]
  },
  {
   "cell_type": "code",
   "execution_count": 30,
   "metadata": {},
   "outputs": [
    {
     "output_type": "execute_result",
     "data": {
      "text/plain": [
       "array([12, 12, 15, 17, 18, 23, 23, 25, 25, 26, 32, 44, 48, 49, 54, 55, 57,\n",
       "       68, 73, 77, 81, 83, 85, 89, 90, 91, 92])"
      ]
     },
     "metadata": {},
     "execution_count": 30
    }
   ],
   "source": [
    "list_3n_sorted = list_3n_sorted[1:-2]\n",
    "list_3n_sorted"
   ]
  },
  {
   "cell_type": "code",
   "execution_count": 33,
   "metadata": {},
   "outputs": [],
   "source": [
    "list_3n_sorted = np.sort(list_3n)\n",
    "tuples_list = []\n",
    "while True:\n",
    "    tuples_list.append((list_3n_sorted[0], list_3n_sorted[-2], list_3n_sorted[-1]))\n",
    "    list_3n_sorted = list_3n_sorted[1:-2]\n",
    "    if len(list_3n_sorted) == 0:\n",
    "        break"
   ]
  },
  {
   "cell_type": "code",
   "execution_count": 34,
   "metadata": {},
   "outputs": [
    {
     "output_type": "execute_result",
     "data": {
      "text/plain": [
       "[(9, 93, 94),\n",
       " (12, 91, 92),\n",
       " (12, 89, 90),\n",
       " (15, 83, 85),\n",
       " (17, 77, 81),\n",
       " (18, 68, 73),\n",
       " (23, 55, 57),\n",
       " (23, 49, 54),\n",
       " (25, 44, 48),\n",
       " (25, 26, 32)]"
      ]
     },
     "metadata": {},
     "execution_count": 34
    }
   ],
   "source": [
    "tuples_list"
   ]
  }
 ]
}